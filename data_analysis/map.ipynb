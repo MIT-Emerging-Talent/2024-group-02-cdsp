{
 "cells": [
  {
   "cell_type": "markdown",
   "metadata": {},
   "source": [
    "Get coordinates. Runs \"coordinates.py\" script"
   ]
  },
  {
   "cell_type": "code",
   "execution_count": null,
   "metadata": {},
   "outputs": [],
   "source": [
    "import os\n",
    "d = os.getcwd()\n",
    "\n",
    "os.chdir(d)\n",
    "%run \"coordinates.py\""
   ]
  },
  {
   "cell_type": "code",
   "execution_count": 5,
   "metadata": {},
   "outputs": [],
   "source": [
    "import pandas as pd;\n",
    "import plotly.express as px\n",
    "from IPython.display import Image\n"
   ]
  },
  {
   "cell_type": "code",
   "execution_count": 53,
   "metadata": {},
   "outputs": [
    {
     "data": {
      "application/vnd.plotly.v1+json": {
       "config": {
        "plotlyServerURL": "https://plot.ly"
       },
       "data": [
        {
         "geo": "geo",
         "hovertemplate": "<b>%{hovertext}</b><br><br># Laid Off=%{marker.color}<br>Lat=%{lat}<br>Lon=%{lon}<extra></extra>",
         "hovertext": [
          "Ahmedabad",
          "Albany",
          "Amsterdam",
          "Ann Arbor",
          "Atlanta",
          "Auckland",
          "Austin",
          "Baltimore",
          "Bangkok",
          "Barcelona",
          "Beijing",
          "Belo Horizonte",
          "Bend",
          "Bengaluru",
          "Berlin",
          "Blumenau",
          "Boise",
          "Boston",
          "Boulder",
          "Brasilia",
          "Brisbane",
          "Bristol",
          "Brno",
          "Buenos Aires",
          "Burlington",
          "Calgary",
          "Cayman Islands",
          "Charleston",
          "Charlotte",
          "Charlottesville",
          "Chennai",
          "Chester",
          "Chicago",
          "Cincinnati",
          "Cleveland",
          "Columbus",
          "Copenhagen",
          "Corvallis",
          "Curitiba",
          "Dakar",
          "Dallas",
          "Denver",
          "Detroit",
          "Dover",
          "Dubai",
          "Dublin",
          "Edinburgh",
          "Florianópolis",
          "Frankfurt",
          "Fredericton",
          "Gothenburg",
          "Guadalajara",
          "Gurugram",
          "Haifa",
          "Hamburg",
          "Helsinki",
          "Hong Kong",
          "Indianapolis",
          "Jacksonville",
          "Jakarta",
          "Jerusalem",
          "Joinville",
          "Kansas City",
          "Karlsruhe",
          "Kfar Saba",
          "Kiel",
          "Kitchener",
          "Kolkata",
          "Kuala Lumpur",
          "Lagos",
          "Las Vegas",
          "Lehi",
          "Linz",
          "Lisbon",
          "Logan",
          "London",
          "Los Angeles",
          "Luxembourg",
          "Madison",
          "Madrid",
          "Malmo",
          "Manchester",
          "Melbourne",
          "Mexico City",
          "Miami",
          "Milwaukee",
          "Minneapolis",
          "Missoula",
          "Montreal",
          "Moscow",
          "Mumbai",
          "Munich",
          "Nairobi",
          "Nashua",
          "Nashville",
          "Nebraska City",
          "New Delhi",
          "New York City",
          "Noida",
          "Oslo",
          "Ottawa",
          "Oxford",
          "Paris",
          "Philadelphia",
          "Phoenix",
          "Pittsburgh",
          "Portland",
          "Pune",
          "Ra'anana",
          "Raleigh",
          "Reno",
          "Riyadh",
          "SF Bay Area",
          "Sacramento",
          "Salt Lake City",
          "San Diego",
          "San Luis Obispo",
          "Sandnes",
          "Santa Barbara",
          "Santa Fe",
          "Santiago",
          "Sao Paulo",
          "Saskatoon",
          "Seattle",
          "Seoul",
          "Shanghai",
          "Singapore",
          "Sofia",
          "Spokane",
          "St. Louis",
          "Stamford",
          "Stockholm",
          "Sydney",
          "Tallinn",
          "Tampa Bay",
          "Tel Aviv",
          "Tokyo",
          "Toronto",
          "Utrecht",
          "Vancouver",
          "Vienna",
          "Walldorf",
          "Washington D.C.",
          "Waterloo",
          "Wellington",
          "Wilmington",
          "Wrocław",
          "Yangon",
          "Zurich"
         ],
         "lat": [
          23.0216238,
          42.6511674,
          52.3730796,
          42.2813722,
          33.7489924,
          -36.852095,
          30.2711286,
          39.2908816,
          13.8245796,
          41.3828939,
          39.9057136,
          -19.9227318,
          44.0581728,
          12.9767936,
          52.5170365,
          -26.9195567,
          43.6008183,
          42.3554334,
          40.0149856,
          -10.3333333,
          -27.4689682,
          51.4538022,
          49.1922443,
          -34.6037181,
          44.4761601,
          51.0456064,
          19.70318225,
          32.7884363,
          35.2272086,
          38.029306,
          13.0836939,
          53.1908873,
          41.8755616,
          39.1014537,
          41.4996574,
          39.9622601,
          55.6867243,
          44.5645659,
          -25.4295963,
          14.693425,
          32.7762719,
          39.7392364,
          42.3315509,
          51.1251275,
          25.2653471,
          53.3493795,
          55.9533456,
          -27.5973002,
          50.1106444,
          45.963233,
          57.7072326,
          20.6720375,
          28.4646148,
          32.799313,
          53.550341,
          60.1674881,
          22.350627,
          39.7683331,
          30.3321838,
          -6.175247,
          31.78847185,
          48.4433253,
          39.100105,
          49.0068705,
          32.1773471,
          54.3227085,
          43.451291,
          22.5726459,
          3.1516964,
          6.4550575,
          36.1672559,
          40.3881114,
          48.3059078,
          38.7077507,
          40.1075089,
          51.4893335,
          34.0536909,
          49.6112768,
          43.074761,
          40.4167047,
          55.6052931,
          53.4794892,
          -37.8142454,
          19.4326296,
          25.7741728,
          43.0349931,
          44.9772995,
          46.8701049,
          45.5031824,
          55.625578,
          18.9733536,
          48.1371079,
          -1.2832533,
          42.7656251,
          36.1622767,
          40.676526,
          28.6138954,
          40.7127281,
          28.5706333,
          59.9133301,
          45.4208777,
          51.7520131,
          48.8534951,
          39.9527237,
          33.4484367,
          40.4416941,
          45.5202471,
          18.521428,
          53.00118,
          35.7803977,
          39.5261206,
          24.638916,
          37.7884969,
          38.5810606,
          40.7596198,
          32.7174202,
          35.3540209,
          58.98313205,
          34.4221319,
          -30.3154739,
          9.8694792,
          -23.5506507,
          52.131802,
          47.6038321,
          37.5666791,
          31.2312707,
          1.357107,
          -15.2538402,
          47.6571934,
          38.6280278,
          41.0534302,
          59.3251172,
          -33.8698439,
          59.4372155,
          27.6886419,
          32.0852997,
          35.6821936,
          43.6534817,
          52.0907006,
          49.2608724,
          48.2083537,
          49.3038134,
          38.8950368,
          42.498275,
          -41.2887953,
          39.7459468,
          51.1263106,
          16.7967129,
          47.3744489
         ],
         "legendgroup": "",
         "lon": [
          72.5797068,
          -73.754968,
          4.8924534,
          -83.7484616,
          -84.3902644,
          174.7631803,
          -97.7436995,
          -76.610759,
          100.6224463,
          2.1774322,
          116.3912972,
          -43.9450948,
          -121.3153096,
          77.590082,
          13.3888599,
          -49.0658025,
          -116.24210864118032,
          -71.060511,
          -105.270545,
          -53.2,
          153.0234991,
          -2.5972985,
          16.6113382,
          -58.38153,
          -73.212906,
          -114.057541,
          -79.9174627243246,
          -79.9399309,
          -80.8430827,
          -78.4766781,
          80.270186,
          -2.8908955,
          -87.6244212,
          -84.5124602,
          -81.6936772,
          -83.0007065,
          12.5700724,
          -123.2620435,
          -49.2712724,
          -17.447938,
          -96.7968559,
          -104.984862,
          -83.0466403,
          1.3134228,
          55.2924914,
          -6.2605593,
          -3.1883749,
          -48.5496098,
          8.6820917,
          -66.6432356,
          11.9670171,
          -103.338396,
          77.0299194,
          34.989571715728204,
          10.000654,
          24.9427473,
          114.1849161,
          -86.1583502,
          -81.655651,
          106.8270488,
          35.21879441094499,
          5.1377537,
          -94.5781416,
          8.4034195,
          34.907459,
          10.135555,
          -80.4927815,
          88.3638953,
          101.6942371,
          3.3941795,
          -115.148516,
          -111.8486019,
          14.286198,
          -9.1365919,
          -89.3768539,
          -0.1440550845276872,
          -118.242766,
          6.129799,
          -89.3837613,
          -3.7035825,
          13.0001566,
          -2.2451148,
          144.9631732,
          -99.1331785,
          -80.19362,
          -87.922497,
          -93.2654692,
          -113.995267,
          -73.5698065,
          37.6063916,
          72.82810491917377,
          11.5753822,
          36.8172449,
          -71.4677032,
          -86.7742984,
          -95.858694,
          77.2090057,
          -74.0060152,
          77.3272147,
          10.7389701,
          -75.6901106,
          -1.2578499,
          2.3483915,
          -75.1635262,
          -112.074141,
          -79.9900861,
          -122.674194,
          73.8544541,
          6.07199,
          -78.6390989,
          -119.8126581,
          46.7160104,
          -122.3558473,
          -121.493895,
          -111.886797,
          -117.162772,
          -120.375716,
          6.394641047340787,
          -119.702667,
          -61.1645076,
          -83.7980749,
          -46.6333824,
          -106.660767,
          -122.330062,
          126.9782914,
          121.4700152,
          103.8194992,
          48.2562163,
          -117.42351,
          -90.1910154,
          -73.5387341,
          18.0710935,
          151.2082848,
          24.7453688,
          -82.5723193,
          34.7818064,
          139.762221,
          -79.3839347,
          5.1215634,
          -123.113952,
          16.3725042,
          8.6433518,
          -77.0365427,
          -92.3328743,
          174.7772114,
          -75.546589,
          16.97819633051261,
          96.1609916,
          8.5410422
         ],
         "marker": {
          "color": [
           500,
           371,
           16785,
           240,
           2075,
           255,
           10587,
           150,
           55,
           250,
           575,
           576,
           50,
           18797,
           11931,
           33,
           7200,
           13342,
           323,
           60,
           214,
           38,
           216,
           283,
           47,
           208,
           60,
           500,
           150,
           120,
           450,
           40,
           7210,
           206,
           1000,
           849,
           335,
           154,
           462,
           300,
           1151,
           1256,
           1228,
           76,
           1088,
           416,
           357,
           70,
           200,
           57,
           72,
           90,
           5576,
           100,
           94,
           250,
           730,
           5,
           75,
           3071,
           142,
           191,
           3100,
           65,
           60,
           21,
           50,
           125,
           100,
           1391,
           319,
           20,
           70,
           80,
           300,
           10811,
           7980,
           45,
           144,
           89,
           70,
           125,
           589,
           80,
           3091,
           235,
           187,
           30,
           1658,
           400,
           945,
           120,
           982,
           23,
           214,
           59,
           960,
           29934,
           120,
           210,
           3300,
           450,
           900,
           2716,
           4889,
           250,
           1549,
           30,
           28,
           1775,
           801,
           340,
           143488,
           115,
           2226,
           4408,
           1100,
           200,
           149,
           12,
           295,
           7974,
           98,
           36949,
           395,
           180,
           7035,
           120,
           243,
           2700,
           464,
           12965,
           2133,
           373,
           30,
           5380,
           120,
           2235,
           300,
           1455,
           270,
           11000,
           947,
           103,
           800,
           100,
           120,
           200,
           62
          ],
          "coloraxis": "coloraxis",
          "size": [
           500,
           371,
           16785,
           240,
           2075,
           255,
           10587,
           150,
           55,
           250,
           575,
           576,
           50,
           18797,
           11931,
           33,
           7200,
           13342,
           323,
           60,
           214,
           38,
           216,
           283,
           47,
           208,
           60,
           500,
           150,
           120,
           450,
           40,
           7210,
           206,
           1000,
           849,
           335,
           154,
           462,
           300,
           1151,
           1256,
           1228,
           76,
           1088,
           416,
           357,
           70,
           200,
           57,
           72,
           90,
           5576,
           100,
           94,
           250,
           730,
           5,
           75,
           3071,
           142,
           191,
           3100,
           65,
           60,
           21,
           50,
           125,
           100,
           1391,
           319,
           20,
           70,
           80,
           300,
           10811,
           7980,
           45,
           144,
           89,
           70,
           125,
           589,
           80,
           3091,
           235,
           187,
           30,
           1658,
           400,
           945,
           120,
           982,
           23,
           214,
           59,
           960,
           29934,
           120,
           210,
           3300,
           450,
           900,
           2716,
           4889,
           250,
           1549,
           30,
           28,
           1775,
           801,
           340,
           143488,
           115,
           2226,
           4408,
           1100,
           200,
           149,
           12,
           295,
           7974,
           98,
           36949,
           395,
           180,
           7035,
           120,
           243,
           2700,
           464,
           12965,
           2133,
           373,
           30,
           5380,
           120,
           2235,
           300,
           1455,
           270,
           11000,
           947,
           103,
           800,
           100,
           120,
           200,
           62
          ],
          "sizemode": "area",
          "sizeref": 358.72,
          "symbol": "circle"
         },
         "mode": "markers",
         "name": "",
         "showlegend": false,
         "type": "scattergeo"
        }
       ],
       "layout": {
        "autosize": false,
        "coloraxis": {
         "colorbar": {
          "title": {
           "text": "# Laid Off"
          }
         },
         "colorscale": [
          [
           0,
           "#0d0887"
          ],
          [
           0.1111111111111111,
           "#46039f"
          ],
          [
           0.2222222222222222,
           "#7201a8"
          ],
          [
           0.3333333333333333,
           "#9c179e"
          ],
          [
           0.4444444444444444,
           "#bd3786"
          ],
          [
           0.5555555555555556,
           "#d8576b"
          ],
          [
           0.6666666666666666,
           "#ed7953"
          ],
          [
           0.7777777777777778,
           "#fb9f3a"
          ],
          [
           0.8888888888888888,
           "#fdca26"
          ],
          [
           1,
           "#f0f921"
          ]
         ]
        },
        "geo": {
         "center": {},
         "domain": {
          "x": [
           0,
           1
          ],
          "y": [
           0,
           1
          ]
         }
        },
        "height": 1000,
        "legend": {
         "itemsizing": "constant",
         "tracegroupgap": 0
        },
        "margin": {
         "t": 60
        },
        "template": {
         "data": {
          "bar": [
           {
            "error_x": {
             "color": "#2a3f5f"
            },
            "error_y": {
             "color": "#2a3f5f"
            },
            "marker": {
             "line": {
              "color": "#E5ECF6",
              "width": 0.5
             },
             "pattern": {
              "fillmode": "overlay",
              "size": 10,
              "solidity": 0.2
             }
            },
            "type": "bar"
           }
          ],
          "barpolar": [
           {
            "marker": {
             "line": {
              "color": "#E5ECF6",
              "width": 0.5
             },
             "pattern": {
              "fillmode": "overlay",
              "size": 10,
              "solidity": 0.2
             }
            },
            "type": "barpolar"
           }
          ],
          "carpet": [
           {
            "aaxis": {
             "endlinecolor": "#2a3f5f",
             "gridcolor": "white",
             "linecolor": "white",
             "minorgridcolor": "white",
             "startlinecolor": "#2a3f5f"
            },
            "baxis": {
             "endlinecolor": "#2a3f5f",
             "gridcolor": "white",
             "linecolor": "white",
             "minorgridcolor": "white",
             "startlinecolor": "#2a3f5f"
            },
            "type": "carpet"
           }
          ],
          "choropleth": [
           {
            "colorbar": {
             "outlinewidth": 0,
             "ticks": ""
            },
            "type": "choropleth"
           }
          ],
          "contour": [
           {
            "colorbar": {
             "outlinewidth": 0,
             "ticks": ""
            },
            "colorscale": [
             [
              0,
              "#0d0887"
             ],
             [
              0.1111111111111111,
              "#46039f"
             ],
             [
              0.2222222222222222,
              "#7201a8"
             ],
             [
              0.3333333333333333,
              "#9c179e"
             ],
             [
              0.4444444444444444,
              "#bd3786"
             ],
             [
              0.5555555555555556,
              "#d8576b"
             ],
             [
              0.6666666666666666,
              "#ed7953"
             ],
             [
              0.7777777777777778,
              "#fb9f3a"
             ],
             [
              0.8888888888888888,
              "#fdca26"
             ],
             [
              1,
              "#f0f921"
             ]
            ],
            "type": "contour"
           }
          ],
          "contourcarpet": [
           {
            "colorbar": {
             "outlinewidth": 0,
             "ticks": ""
            },
            "type": "contourcarpet"
           }
          ],
          "heatmap": [
           {
            "colorbar": {
             "outlinewidth": 0,
             "ticks": ""
            },
            "colorscale": [
             [
              0,
              "#0d0887"
             ],
             [
              0.1111111111111111,
              "#46039f"
             ],
             [
              0.2222222222222222,
              "#7201a8"
             ],
             [
              0.3333333333333333,
              "#9c179e"
             ],
             [
              0.4444444444444444,
              "#bd3786"
             ],
             [
              0.5555555555555556,
              "#d8576b"
             ],
             [
              0.6666666666666666,
              "#ed7953"
             ],
             [
              0.7777777777777778,
              "#fb9f3a"
             ],
             [
              0.8888888888888888,
              "#fdca26"
             ],
             [
              1,
              "#f0f921"
             ]
            ],
            "type": "heatmap"
           }
          ],
          "heatmapgl": [
           {
            "colorbar": {
             "outlinewidth": 0,
             "ticks": ""
            },
            "colorscale": [
             [
              0,
              "#0d0887"
             ],
             [
              0.1111111111111111,
              "#46039f"
             ],
             [
              0.2222222222222222,
              "#7201a8"
             ],
             [
              0.3333333333333333,
              "#9c179e"
             ],
             [
              0.4444444444444444,
              "#bd3786"
             ],
             [
              0.5555555555555556,
              "#d8576b"
             ],
             [
              0.6666666666666666,
              "#ed7953"
             ],
             [
              0.7777777777777778,
              "#fb9f3a"
             ],
             [
              0.8888888888888888,
              "#fdca26"
             ],
             [
              1,
              "#f0f921"
             ]
            ],
            "type": "heatmapgl"
           }
          ],
          "histogram": [
           {
            "marker": {
             "pattern": {
              "fillmode": "overlay",
              "size": 10,
              "solidity": 0.2
             }
            },
            "type": "histogram"
           }
          ],
          "histogram2d": [
           {
            "colorbar": {
             "outlinewidth": 0,
             "ticks": ""
            },
            "colorscale": [
             [
              0,
              "#0d0887"
             ],
             [
              0.1111111111111111,
              "#46039f"
             ],
             [
              0.2222222222222222,
              "#7201a8"
             ],
             [
              0.3333333333333333,
              "#9c179e"
             ],
             [
              0.4444444444444444,
              "#bd3786"
             ],
             [
              0.5555555555555556,
              "#d8576b"
             ],
             [
              0.6666666666666666,
              "#ed7953"
             ],
             [
              0.7777777777777778,
              "#fb9f3a"
             ],
             [
              0.8888888888888888,
              "#fdca26"
             ],
             [
              1,
              "#f0f921"
             ]
            ],
            "type": "histogram2d"
           }
          ],
          "histogram2dcontour": [
           {
            "colorbar": {
             "outlinewidth": 0,
             "ticks": ""
            },
            "colorscale": [
             [
              0,
              "#0d0887"
             ],
             [
              0.1111111111111111,
              "#46039f"
             ],
             [
              0.2222222222222222,
              "#7201a8"
             ],
             [
              0.3333333333333333,
              "#9c179e"
             ],
             [
              0.4444444444444444,
              "#bd3786"
             ],
             [
              0.5555555555555556,
              "#d8576b"
             ],
             [
              0.6666666666666666,
              "#ed7953"
             ],
             [
              0.7777777777777778,
              "#fb9f3a"
             ],
             [
              0.8888888888888888,
              "#fdca26"
             ],
             [
              1,
              "#f0f921"
             ]
            ],
            "type": "histogram2dcontour"
           }
          ],
          "mesh3d": [
           {
            "colorbar": {
             "outlinewidth": 0,
             "ticks": ""
            },
            "type": "mesh3d"
           }
          ],
          "parcoords": [
           {
            "line": {
             "colorbar": {
              "outlinewidth": 0,
              "ticks": ""
             }
            },
            "type": "parcoords"
           }
          ],
          "pie": [
           {
            "automargin": true,
            "type": "pie"
           }
          ],
          "scatter": [
           {
            "fillpattern": {
             "fillmode": "overlay",
             "size": 10,
             "solidity": 0.2
            },
            "type": "scatter"
           }
          ],
          "scatter3d": [
           {
            "line": {
             "colorbar": {
              "outlinewidth": 0,
              "ticks": ""
             }
            },
            "marker": {
             "colorbar": {
              "outlinewidth": 0,
              "ticks": ""
             }
            },
            "type": "scatter3d"
           }
          ],
          "scattercarpet": [
           {
            "marker": {
             "colorbar": {
              "outlinewidth": 0,
              "ticks": ""
             }
            },
            "type": "scattercarpet"
           }
          ],
          "scattergeo": [
           {
            "marker": {
             "colorbar": {
              "outlinewidth": 0,
              "ticks": ""
             }
            },
            "type": "scattergeo"
           }
          ],
          "scattergl": [
           {
            "marker": {
             "colorbar": {
              "outlinewidth": 0,
              "ticks": ""
             }
            },
            "type": "scattergl"
           }
          ],
          "scattermapbox": [
           {
            "marker": {
             "colorbar": {
              "outlinewidth": 0,
              "ticks": ""
             }
            },
            "type": "scattermapbox"
           }
          ],
          "scatterpolar": [
           {
            "marker": {
             "colorbar": {
              "outlinewidth": 0,
              "ticks": ""
             }
            },
            "type": "scatterpolar"
           }
          ],
          "scatterpolargl": [
           {
            "marker": {
             "colorbar": {
              "outlinewidth": 0,
              "ticks": ""
             }
            },
            "type": "scatterpolargl"
           }
          ],
          "scatterternary": [
           {
            "marker": {
             "colorbar": {
              "outlinewidth": 0,
              "ticks": ""
             }
            },
            "type": "scatterternary"
           }
          ],
          "surface": [
           {
            "colorbar": {
             "outlinewidth": 0,
             "ticks": ""
            },
            "colorscale": [
             [
              0,
              "#0d0887"
             ],
             [
              0.1111111111111111,
              "#46039f"
             ],
             [
              0.2222222222222222,
              "#7201a8"
             ],
             [
              0.3333333333333333,
              "#9c179e"
             ],
             [
              0.4444444444444444,
              "#bd3786"
             ],
             [
              0.5555555555555556,
              "#d8576b"
             ],
             [
              0.6666666666666666,
              "#ed7953"
             ],
             [
              0.7777777777777778,
              "#fb9f3a"
             ],
             [
              0.8888888888888888,
              "#fdca26"
             ],
             [
              1,
              "#f0f921"
             ]
            ],
            "type": "surface"
           }
          ],
          "table": [
           {
            "cells": {
             "fill": {
              "color": "#EBF0F8"
             },
             "line": {
              "color": "white"
             }
            },
            "header": {
             "fill": {
              "color": "#C8D4E3"
             },
             "line": {
              "color": "white"
             }
            },
            "type": "table"
           }
          ]
         },
         "layout": {
          "annotationdefaults": {
           "arrowcolor": "#2a3f5f",
           "arrowhead": 0,
           "arrowwidth": 1
          },
          "autotypenumbers": "strict",
          "coloraxis": {
           "colorbar": {
            "outlinewidth": 0,
            "ticks": ""
           }
          },
          "colorscale": {
           "diverging": [
            [
             0,
             "#8e0152"
            ],
            [
             0.1,
             "#c51b7d"
            ],
            [
             0.2,
             "#de77ae"
            ],
            [
             0.3,
             "#f1b6da"
            ],
            [
             0.4,
             "#fde0ef"
            ],
            [
             0.5,
             "#f7f7f7"
            ],
            [
             0.6,
             "#e6f5d0"
            ],
            [
             0.7,
             "#b8e186"
            ],
            [
             0.8,
             "#7fbc41"
            ],
            [
             0.9,
             "#4d9221"
            ],
            [
             1,
             "#276419"
            ]
           ],
           "sequential": [
            [
             0,
             "#0d0887"
            ],
            [
             0.1111111111111111,
             "#46039f"
            ],
            [
             0.2222222222222222,
             "#7201a8"
            ],
            [
             0.3333333333333333,
             "#9c179e"
            ],
            [
             0.4444444444444444,
             "#bd3786"
            ],
            [
             0.5555555555555556,
             "#d8576b"
            ],
            [
             0.6666666666666666,
             "#ed7953"
            ],
            [
             0.7777777777777778,
             "#fb9f3a"
            ],
            [
             0.8888888888888888,
             "#fdca26"
            ],
            [
             1,
             "#f0f921"
            ]
           ],
           "sequentialminus": [
            [
             0,
             "#0d0887"
            ],
            [
             0.1111111111111111,
             "#46039f"
            ],
            [
             0.2222222222222222,
             "#7201a8"
            ],
            [
             0.3333333333333333,
             "#9c179e"
            ],
            [
             0.4444444444444444,
             "#bd3786"
            ],
            [
             0.5555555555555556,
             "#d8576b"
            ],
            [
             0.6666666666666666,
             "#ed7953"
            ],
            [
             0.7777777777777778,
             "#fb9f3a"
            ],
            [
             0.8888888888888888,
             "#fdca26"
            ],
            [
             1,
             "#f0f921"
            ]
           ]
          },
          "colorway": [
           "#636efa",
           "#EF553B",
           "#00cc96",
           "#ab63fa",
           "#FFA15A",
           "#19d3f3",
           "#FF6692",
           "#B6E880",
           "#FF97FF",
           "#FECB52"
          ],
          "font": {
           "color": "#2a3f5f"
          },
          "geo": {
           "bgcolor": "white",
           "lakecolor": "white",
           "landcolor": "#E5ECF6",
           "showlakes": true,
           "showland": true,
           "subunitcolor": "white"
          },
          "hoverlabel": {
           "align": "left"
          },
          "hovermode": "closest",
          "mapbox": {
           "style": "light"
          },
          "paper_bgcolor": "white",
          "plot_bgcolor": "#E5ECF6",
          "polar": {
           "angularaxis": {
            "gridcolor": "white",
            "linecolor": "white",
            "ticks": ""
           },
           "bgcolor": "#E5ECF6",
           "radialaxis": {
            "gridcolor": "white",
            "linecolor": "white",
            "ticks": ""
           }
          },
          "scene": {
           "xaxis": {
            "backgroundcolor": "#E5ECF6",
            "gridcolor": "white",
            "gridwidth": 2,
            "linecolor": "white",
            "showbackground": true,
            "ticks": "",
            "zerolinecolor": "white"
           },
           "yaxis": {
            "backgroundcolor": "#E5ECF6",
            "gridcolor": "white",
            "gridwidth": 2,
            "linecolor": "white",
            "showbackground": true,
            "ticks": "",
            "zerolinecolor": "white"
           },
           "zaxis": {
            "backgroundcolor": "#E5ECF6",
            "gridcolor": "white",
            "gridwidth": 2,
            "linecolor": "white",
            "showbackground": true,
            "ticks": "",
            "zerolinecolor": "white"
           }
          },
          "shapedefaults": {
           "line": {
            "color": "#2a3f5f"
           }
          },
          "ternary": {
           "aaxis": {
            "gridcolor": "white",
            "linecolor": "white",
            "ticks": ""
           },
           "baxis": {
            "gridcolor": "white",
            "linecolor": "white",
            "ticks": ""
           },
           "bgcolor": "#E5ECF6",
           "caxis": {
            "gridcolor": "white",
            "linecolor": "white",
            "ticks": ""
           }
          },
          "title": {
           "x": 0.05
          },
          "xaxis": {
           "automargin": true,
           "gridcolor": "white",
           "linecolor": "white",
           "ticks": "",
           "title": {
            "standoff": 15
           },
           "zerolinecolor": "white",
           "zerolinewidth": 2
          },
          "yaxis": {
           "automargin": true,
           "gridcolor": "white",
           "linecolor": "white",
           "ticks": "",
           "title": {
            "standoff": 15
           },
           "zerolinecolor": "white",
           "zerolinewidth": 2
          }
         }
        },
        "width": 1200
       }
      }
     },
     "metadata": {},
     "output_type": "display_data"
    }
   ],
   "source": [
    "data = pd.read_csv(\"../src/data_coord.csv\", index_col=0)\n",
    "data.drop(columns=[\"Source\", \"Date added\", \"List of emploees laid\"], inplace=True)\n",
    "data[\"Date\"] = pd.to_datetime(data[\"Date\"]).apply(lambda x: x.strftime('%Y-%m'))\n",
    "\n",
    "\n",
    "#data\n",
    "\n",
    "data_n_laid= data.groupby([\"Location HQ\"],as_index=False).agg({\"Location HQ\": 'first', \"# Laid Off\": 'sum', \"%\": 'mean', \"Lat\": 'first', \"Lon\": 'first'})\n",
    "\n",
    "fig = px.scatter_geo(data_n_laid,size =\"# Laid Off\", color=\"# Laid Off\",lat=\"Lat\", lon=\"Lon\", hover_name=\"Location HQ\")\n",
    "\n",
    "\n",
    "fig.update_layout( autosize=False,    width=1200,    height=1000)\n",
    "#fig.write_image(\"fig1.png\")\n",
    "fig.show()\n",
    "#display(Image(filename=\"fig1.png\")) \n"
   ]
  }
 ],
 "metadata": {
  "kernelspec": {
   "display_name": ".venv",
   "language": "python",
   "name": "python3"
  },
  "language_info": {
   "codemirror_mode": {
    "name": "ipython",
    "version": 3
   },
   "file_extension": ".py",
   "mimetype": "text/x-python",
   "name": "python",
   "nbconvert_exporter": "python",
   "pygments_lexer": "ipython3",
   "version": "3.12.2"
  }
 },
 "nbformat": 4,
 "nbformat_minor": 2
}
