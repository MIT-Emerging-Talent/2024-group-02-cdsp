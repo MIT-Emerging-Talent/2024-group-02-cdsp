{
 "cells": [
  {
   "cell_type": "markdown",
   "metadata": {},
   "source": [
    "Importing pandas and numpy:"
   ]
  },
  {
   "cell_type": "code",
   "execution_count": 1,
   "metadata": {},
   "outputs": [],
   "source": [
    "import pandas as pd \n",
    "import numpy as np \n",
    "import matplotlib.pyplot as plt"
   ]
  },
  {
   "cell_type": "markdown",
   "metadata": {},
   "source": [
    "Reading .csv and setting start options:"
   ]
  },
  {
   "cell_type": "code",
   "execution_count": 33,
   "metadata": {},
   "outputs": [
    {
     "name": "stderr",
     "output_type": "stream",
     "text": [
      "Skipping line 997: expected 13 fields, saw 15\n",
      "\n"
     ]
    },
    {
     "data": {
      "text/html": [
       "<div>\n",
       "<style scoped>\n",
       "    .dataframe tbody tr th:only-of-type {\n",
       "        vertical-align: middle;\n",
       "    }\n",
       "\n",
       "    .dataframe tbody tr th {\n",
       "        vertical-align: top;\n",
       "    }\n",
       "\n",
       "    .dataframe thead th {\n",
       "        text-align: right;\n",
       "    }\n",
       "</style>\n",
       "<table border=\"1\" class=\"dataframe\">\n",
       "  <thead>\n",
       "    <tr style=\"text-align: right;\">\n",
       "      <th></th>\n",
       "      <th>Company</th>\n",
       "      <th>Location HQ</th>\n",
       "      <th># Laid Off</th>\n",
       "      <th>Date</th>\n",
       "      <th>%</th>\n",
       "      <th>Industry</th>\n",
       "      <th>Source</th>\n",
       "      <th>List of emploees laid</th>\n",
       "      <th>Stage</th>\n",
       "      <th>$ Raised mm</th>\n",
       "      <th>Country</th>\n",
       "      <th>Date added</th>\n",
       "    </tr>\n",
       "    <tr>\n",
       "      <th>id</th>\n",
       "      <th></th>\n",
       "      <th></th>\n",
       "      <th></th>\n",
       "      <th></th>\n",
       "      <th></th>\n",
       "      <th></th>\n",
       "      <th></th>\n",
       "      <th></th>\n",
       "      <th></th>\n",
       "      <th></th>\n",
       "      <th></th>\n",
       "      <th></th>\n",
       "    </tr>\n",
       "  </thead>\n",
       "  <tbody>\n",
       "    <tr>\n",
       "      <th>0</th>\n",
       "      <td>Grammarly</td>\n",
       "      <td>SF Bay Area</td>\n",
       "      <td>230</td>\n",
       "      <td>2024-02-07</td>\n",
       "      <td>no-data</td>\n",
       "      <td>Consumer</td>\n",
       "      <td>https://elbuz.com/en/grammarly-skorochue-230-c...</td>\n",
       "      <td>no-data</td>\n",
       "      <td>Unknown</td>\n",
       "      <td>$400</td>\n",
       "      <td>United States</td>\n",
       "      <td>2024-02-07</td>\n",
       "    </tr>\n",
       "    <tr>\n",
       "      <th>1</th>\n",
       "      <td>Fireblocks</td>\n",
       "      <td>New York City</td>\n",
       "      <td>20</td>\n",
       "      <td>2024-02-07</td>\n",
       "      <td>3%</td>\n",
       "      <td>Crypto</td>\n",
       "      <td>https://www.calcalistech.com/ctechnews/article...</td>\n",
       "      <td>no-data</td>\n",
       "      <td>Series E</td>\n",
       "      <td>$1,000</td>\n",
       "      <td>United States</td>\n",
       "      <td>2024-02-07</td>\n",
       "    </tr>\n",
       "    <tr>\n",
       "      <th>2</th>\n",
       "      <td>Workfellow</td>\n",
       "      <td>EspooNon-U.S.</td>\n",
       "      <td>no-data</td>\n",
       "      <td>2024-02-07</td>\n",
       "      <td>100%</td>\n",
       "      <td>HR</td>\n",
       "      <td>https://tech.eu/2024/02/07/finnish-hrtech-star...</td>\n",
       "      <td>no-data</td>\n",
       "      <td>Seed</td>\n",
       "      <td>$3</td>\n",
       "      <td>Finland</td>\n",
       "      <td>2024-02-07</td>\n",
       "    </tr>\n",
       "    <tr>\n",
       "      <th>3</th>\n",
       "      <td>DocuSign</td>\n",
       "      <td>SF Bay Area</td>\n",
       "      <td>440</td>\n",
       "      <td>2024-02-06</td>\n",
       "      <td>6%</td>\n",
       "      <td>Sales</td>\n",
       "      <td>https://www.cnbc.com/2024/02/06/docusign-to-la...</td>\n",
       "      <td>no-data</td>\n",
       "      <td>Post-IPO</td>\n",
       "      <td>$536</td>\n",
       "      <td>United States</td>\n",
       "      <td>2024-02-06</td>\n",
       "    </tr>\n",
       "    <tr>\n",
       "      <th>4</th>\n",
       "      <td>Amazon</td>\n",
       "      <td>Seattle</td>\n",
       "      <td>400</td>\n",
       "      <td>2024-02-06</td>\n",
       "      <td>no-data</td>\n",
       "      <td>Retail</td>\n",
       "      <td>https://www.businessinsider.com/amazon-one-med...</td>\n",
       "      <td>no-data</td>\n",
       "      <td>Post-IPO</td>\n",
       "      <td>$108</td>\n",
       "      <td>United States</td>\n",
       "      <td>2024-02-07</td>\n",
       "    </tr>\n",
       "    <tr>\n",
       "      <th>...</th>\n",
       "      <td>...</td>\n",
       "      <td>...</td>\n",
       "      <td>...</td>\n",
       "      <td>...</td>\n",
       "      <td>...</td>\n",
       "      <td>...</td>\n",
       "      <td>...</td>\n",
       "      <td>...</td>\n",
       "      <td>...</td>\n",
       "      <td>...</td>\n",
       "      <td>...</td>\n",
       "      <td>...</td>\n",
       "    </tr>\n",
       "    <tr>\n",
       "      <th>3424</th>\n",
       "      <td>Service</td>\n",
       "      <td>Los Angeles</td>\n",
       "      <td>no-data</td>\n",
       "      <td>2020-03-16</td>\n",
       "      <td>100%</td>\n",
       "      <td>Travel</td>\n",
       "      <td>https://techcrunch.com/2020/03/16/travel-savin...</td>\n",
       "      <td>no-data</td>\n",
       "      <td>Seed</td>\n",
       "      <td>$5</td>\n",
       "      <td>United States</td>\n",
       "      <td>2020-08-31</td>\n",
       "    </tr>\n",
       "    <tr>\n",
       "      <th>3425</th>\n",
       "      <td>HopSkipDrive</td>\n",
       "      <td>Los Angeles</td>\n",
       "      <td>8</td>\n",
       "      <td>2020-03-13</td>\n",
       "      <td>10%</td>\n",
       "      <td>Transportation</td>\n",
       "      <td>https://layoffs.fyi/2020/04/02/hopskipdrive-la...</td>\n",
       "      <td>no-data</td>\n",
       "      <td>Unknown</td>\n",
       "      <td>$45</td>\n",
       "      <td>United States</td>\n",
       "      <td>2020-04-02</td>\n",
       "    </tr>\n",
       "    <tr>\n",
       "      <th>3426</th>\n",
       "      <td>Panda Squad</td>\n",
       "      <td>SF Bay Area</td>\n",
       "      <td>6</td>\n",
       "      <td>2020-03-13</td>\n",
       "      <td>75%</td>\n",
       "      <td>Consumer</td>\n",
       "      <td>https://twitter.com/danielsinger/status/123854...</td>\n",
       "      <td>no-data</td>\n",
       "      <td>Seed</td>\n",
       "      <td>$1</td>\n",
       "      <td>United States</td>\n",
       "      <td>2020-04-16</td>\n",
       "    </tr>\n",
       "    <tr>\n",
       "      <th>3427</th>\n",
       "      <td>Tamara Mellon</td>\n",
       "      <td>Los Angeles</td>\n",
       "      <td>20</td>\n",
       "      <td>2020-03-12</td>\n",
       "      <td>40%</td>\n",
       "      <td>Retail</td>\n",
       "      <td>https://layoffs.fyi/list/tamara-mellon/</td>\n",
       "      <td>no-data</td>\n",
       "      <td>Series C</td>\n",
       "      <td>$90</td>\n",
       "      <td>United States</td>\n",
       "      <td>2020-03-31</td>\n",
       "    </tr>\n",
       "    <tr>\n",
       "      <th>3428</th>\n",
       "      <td>EasyPost</td>\n",
       "      <td>Salt Lake City</td>\n",
       "      <td>75</td>\n",
       "      <td>2020-03-11</td>\n",
       "      <td>no-data</td>\n",
       "      <td>Logistics</td>\n",
       "      <td>https://www.bizjournals.com/louisville/news/20...</td>\n",
       "      <td>no-data</td>\n",
       "      <td>Series A</td>\n",
       "      <td>$12</td>\n",
       "      <td>United States</td>\n",
       "      <td>2020-03-31</td>\n",
       "    </tr>\n",
       "  </tbody>\n",
       "</table>\n",
       "<p>3429 rows × 12 columns</p>\n",
       "</div>"
      ],
      "text/plain": [
       "            Company     Location HQ # Laid Off        Date        %   \n",
       "id                                                                    \n",
       "0         Grammarly     SF Bay Area        230  2024-02-07  no-data  \\\n",
       "1        Fireblocks   New York City         20  2024-02-07       3%   \n",
       "2        Workfellow   EspooNon-U.S.    no-data  2024-02-07     100%   \n",
       "3          DocuSign     SF Bay Area        440  2024-02-06       6%   \n",
       "4            Amazon         Seattle        400  2024-02-06  no-data   \n",
       "...             ...             ...        ...         ...      ...   \n",
       "3424        Service     Los Angeles    no-data  2020-03-16     100%   \n",
       "3425   HopSkipDrive     Los Angeles          8  2020-03-13      10%   \n",
       "3426    Panda Squad     SF Bay Area          6  2020-03-13      75%   \n",
       "3427  Tamara Mellon     Los Angeles         20  2020-03-12      40%   \n",
       "3428       EasyPost  Salt Lake City         75  2020-03-11  no-data   \n",
       "\n",
       "            Industry                                             Source   \n",
       "id                                                                        \n",
       "0           Consumer  https://elbuz.com/en/grammarly-skorochue-230-c...  \\\n",
       "1             Crypto  https://www.calcalistech.com/ctechnews/article...   \n",
       "2                 HR  https://tech.eu/2024/02/07/finnish-hrtech-star...   \n",
       "3              Sales  https://www.cnbc.com/2024/02/06/docusign-to-la...   \n",
       "4             Retail  https://www.businessinsider.com/amazon-one-med...   \n",
       "...              ...                                                ...   \n",
       "3424          Travel  https://techcrunch.com/2020/03/16/travel-savin...   \n",
       "3425  Transportation  https://layoffs.fyi/2020/04/02/hopskipdrive-la...   \n",
       "3426        Consumer  https://twitter.com/danielsinger/status/123854...   \n",
       "3427          Retail            https://layoffs.fyi/list/tamara-mellon/   \n",
       "3428       Logistics  https://www.bizjournals.com/louisville/news/20...   \n",
       "\n",
       "     List of emploees laid     Stage $ Raised mm        Country  Date added  \n",
       "id                                                                           \n",
       "0                  no-data   Unknown        $400  United States  2024-02-07  \n",
       "1                  no-data  Series E      $1,000  United States  2024-02-07  \n",
       "2                  no-data      Seed          $3        Finland  2024-02-07  \n",
       "3                  no-data  Post-IPO        $536  United States  2024-02-06  \n",
       "4                  no-data  Post-IPO        $108  United States  2024-02-07  \n",
       "...                    ...       ...         ...            ...         ...  \n",
       "3424               no-data      Seed          $5  United States  2020-08-31  \n",
       "3425               no-data   Unknown         $45  United States  2020-04-02  \n",
       "3426               no-data      Seed          $1  United States  2020-04-16  \n",
       "3427               no-data  Series C         $90  United States  2020-03-31  \n",
       "3428               no-data  Series A         $12  United States  2020-03-31  \n",
       "\n",
       "[3429 rows x 12 columns]"
      ]
     },
     "execution_count": 33,
     "metadata": {},
     "output_type": "execute_result"
    }
   ],
   "source": [
    "pd.set_option('display.max_rows', 10)\n",
    "df = pd.read_csv('layoffs.fyi_20240208_003251.csv', on_bad_lines='warn', sep=';')\n",
    "df['id'] = df['id'].fillna(0).astype(int)\n",
    "df = df.set_index('id')\n",
    "df"
   ]
  },
  {
   "cell_type": "markdown",
   "metadata": {},
   "source": [
    "<hr>"
   ]
  },
  {
   "cell_type": "code",
   "execution_count": 43,
   "metadata": {},
   "outputs": [],
   "source": [
    "df['Date'] = pd.to_datetime(df['Date'])"
   ]
  },
  {
   "cell_type": "markdown",
   "metadata": {},
   "source": [
    "Recording period: "
   ]
  },
  {
   "cell_type": "code",
   "execution_count": 48,
   "metadata": {},
   "outputs": [
    {
     "name": "stdout",
     "output_type": "stream",
     "text": [
      "Latest date: 2024-02-07 00:00:00\n",
      "Earliest_date: 2020-03-12 00:00:00\n"
     ]
    }
   ],
   "source": [
    "latest_date = df['Date'].max()\n",
    "earliest_date = df['Date'].min()\n",
    "print(\"Latest date: \" + str(latest_date))\n",
    "print(\"Earliest_date: \" + str(earliest_date))"
   ]
  },
  {
   "cell_type": "markdown",
   "metadata": {},
   "source": [
    "Getting rid of no-data lines and translating str to numeric: "
   ]
  },
  {
   "cell_type": "code",
   "execution_count": 34,
   "metadata": {},
   "outputs": [],
   "source": [
    "df['# Laid Off'] = pd.to_numeric(df['# Laid Off'], errors='coerce')\n",
    "df.dropna(subset=['# Laid Off'], inplace=True)\n",
    "\n",
    "df['%'] = pd.to_numeric(df['%'].str.rstrip('%'), errors='coerce')\n",
    "df.dropna(subset=['%'], inplace=True)"
   ]
  },
  {
   "cell_type": "markdown",
   "metadata": {},
   "source": [
    "Plotting \"Laid off\" amount + taking not into account companies with no-data: "
   ]
  },
  {
   "cell_type": "code",
   "execution_count": 35,
   "metadata": {},
   "outputs": [
    {
     "data": {
      "image/png": "[encoded data removed]",
      "text/plain": [
       "<Figure size 640x480 with 1 Axes>"
      ]
     },
     "metadata": {},
     "output_type": "display_data"
    }
   ],
   "source": [
    "plt.bar(df.index, df['# Laid Off'])\n",
    "plt.yscale('log')\n",
    "plt.xlabel('Index')\n",
    "plt.ylabel('# Laid Off')\n",
    "plt.title('Number of Laid Off (Log Scale)')\n",
    "plt.grid(True)\n",
    "plt.show()"
   ]
  },
  {
   "cell_type": "markdown",
   "metadata": {},
   "source": [
    "Plotting % of laid offs:"
   ]
  },
  {
   "cell_type": "code",
   "execution_count": 36,
   "metadata": {},
   "outputs": [
    {
     "data": {
      "image/png": "[encoded data removed]",
      "text/plain": [
       "<Figure size 640x480 with 1 Axes>"
      ]
     },
     "metadata": {},
     "output_type": "display_data"
    }
   ],
   "source": [
    "plt.bar(df.index.values, df['%'])\n",
    "plt.yticks(range(0, 101, 10))\n",
    "plt.xlabel('Index')\n",
    "plt.ylabel('%')\n",
    "plt.title('Percantage of Laid Off')\n",
    "plt.show()"
   ]
  },
  {
   "cell_type": "markdown",
   "metadata": {},
   "source": [
    "Note: There are companies whose layoff rate is 100% - that's not a mistake."
   ]
  },
  {
   "cell_type": "markdown",
   "metadata": {},
   "source": [
    "<hr>"
   ]
  },
  {
   "cell_type": "markdown",
   "metadata": {},
   "source": [
    "Arrays:"
   ]
  },
  {
   "cell_type": "code",
   "execution_count": 39,
   "metadata": {},
   "outputs": [
    {
     "name": "stdout",
     "output_type": "stream",
     "text": [
      "[ 3.  6. 10. ... 10. 75. 40.]\n"
     ]
    }
   ],
   "source": [
    "array_pr = df['%'].to_numpy()\n",
    "print(array_pr)"
   ]
  },
  {
   "cell_type": "code",
   "execution_count": 19,
   "metadata": {},
   "outputs": [
    {
     "name": "stdout",
     "output_type": "stream",
     "text": [
      "[230.  20. 440. ...   6.  20.  75.]\n"
     ]
    }
   ],
   "source": [
    "array_nm = df['# Laid Off'].to_numpy()\n",
    "print(array_nm)"
   ]
  },
  {
   "cell_type": "markdown",
   "metadata": {},
   "source": [
    "<hr>"
   ]
  },
  {
   "cell_type": "markdown",
   "metadata": {},
   "source": [
    "Mean, standart deviation, variance of Laid off numbers:"
   ]
  },
  {
   "cell_type": "code",
   "execution_count": 22,
   "metadata": {},
   "outputs": [
    {
     "name": "stdout",
     "output_type": "stream",
     "text": [
      "Mean of Laid off numbers: 247.83895297249333 \n",
      "Variance of Laid odd numbers: 604845.9070718407 \n",
      "Standart Deviation of Laid off numbers: 777.7183983112658\n"
     ]
    }
   ],
   "source": [
    "mean_nm = np.mean(array_nm)\n",
    "std_nm = np.std(array_nm)\n",
    "var_nm = np.var(array_nm)\n",
    "print(\"Mean of Laid off numbers: {} \\nVariance of Laid odd numbers: {} \\nStandart Deviation of Laid off numbers: {}\".format(mean_nm, var_nm, std_nm))"
   ]
  },
  {
   "cell_type": "markdown",
   "metadata": {},
   "source": [
    "The following conclusion is based on data taken from layoffs.fyi_20240208_003251.csv dataset:<br>\n",
    "    \n",
    "    On average - 248 people being laid off\n",
    "    \n",
    "    The variance is 604845.91 - this indicates that the data is significantly scattered with respect to its mean value.</li>\n",
    "\n",
    "    The standard deviation is about 777.72 - this indicates that the values deviate from the mean value by a significant amount, which confirms that there is a significant scatter in the data.\n",
    "\n",
    "From this data, it can be concluded that the number of laid off employees during this time period has a significant variation which can be due to various factors - economic sutuation/condition, crisis, company scale... \n",
    "    "
   ]
  },
  {
   "cell_type": "markdown",
   "metadata": {},
   "source": [
    " <hr>"
   ]
  },
  {
   "cell_type": "markdown",
   "metadata": {},
   "source": [
    "Mean, standart deviation, variance of laid off percentage:"
   ]
  },
  {
   "cell_type": "code",
   "execution_count": 40,
   "metadata": {},
   "outputs": [
    {
     "name": "stdout",
     "output_type": "stream",
     "text": [
      "Mean of Laid off %: 22.15181932245922 \n",
      "Variance of Laid odd %: 445.10744022833427 \n",
      "Standart Deviation of Laid off %: 21.09756953367696\n"
     ]
    }
   ],
   "source": [
    "mean_pr = np.mean(array_pr)\n",
    "std_pr = np.std(array_pr)\n",
    "var_pr = np.var(array_pr)\n",
    "print(\"Mean of Laid off %: {} \\nVariance of Laid odd %: {} \\nStandart Deviation of Laid off %: {}\".format(mean_pr, var_pr, std_pr))"
   ]
  },
  {
   "cell_type": "markdown",
   "metadata": {},
   "source": [
    "The following conclusion is based on data taken from layoffs.fyi_20240208_003251.csv dataset:<br>\n",
    "\n",
    "    The average percentage of Laid off employees is about 22.15%.\n",
    "\n",
    "    The variance of Laid off rate is 445.11 - this again indicates that the data are significantly scattered relative to their mean quit rate.\n",
    "    \n",
    "    The standard deviation of the percentage is about 21.10% - this too indicates in comparison to numers that the values of the percentage of dismissed employees deviate from the mean value by a significant amount.\n",
    "\n",
    "Comparing this data with previous data on the number of terminated employees, we can conclude that the average laid off rate is about 22%, with the variance in percentages being slightly smaller than in absolute values, which may be due to the fact that percentages are more robust to large outliers in the data. \n",
    "\n",
    "Nevertheless, both sets of data show significant variation in the values and approximatly percentage of laid off(22 with a big number of deviation - 21,10%) - this indicates that there is considerable variability and uncertainty in the data, reasons for which should be studied."
   ]
  },
  {
   "cell_type": "markdown",
   "metadata": {},
   "source": [
    "### Recoding period - 2020-03-12 -- 2024-02-07"
   ]
  }
 ],
 "metadata": {
  "kernelspec": {
   "display_name": "Python 3",
   "language": "python",
   "name": "python3"
  },
  "language_info": {
   "codemirror_mode": {
    "name": "ipython",
    "version": 3
   },
   "file_extension": ".py",
   "mimetype": "text/x-python",
   "name": "python",
   "nbconvert_exporter": "python",
   "pygments_lexer": "ipython3",
   "version": "3.11.1"
  }
 },
 "nbformat": 4,
 "nbformat_minor": 2
}
